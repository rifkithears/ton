{
  "nbformat": 4,
  "nbformat_minor": 0,
  "metadata": {
    "colab": {
      "name": "ton.ipynb",
      "private_outputs": true,
      "provenance": [],
      "collapsed_sections": []
    },
    "kernelspec": {
      "name": "python3",
      "display_name": "Python 3"
    },
    "language_info": {
      "name": "python"
    },
    "accelerator": "GPU"
  },
  "cells": [
    {
      "cell_type": "markdown",
      "metadata": {
        "id": "gc9gnB09ZVG4"
      },
      "source": [
        "**TensorFlow 2x.**\n",
        "\n",
        "\n",
        "Buat jalanin semua cell (CTRL + F9)"
      ]
    },
    {
      "cell_type": "code",
      "metadata": {
        "id": "fnHKT0qJ0Nid",
        "cellView": "form"
      },
      "source": [
        "#@title **Cek GPU**\n",
        "%%bash\n",
        "nvidia-smi --query-gpu=gpu_name --format=csv > nvidia.txt && echo \"$(tail -n +2 \"nvidia.txt\")\" > \"nvidia.txt\" && str=$(cat nvidia.txt) && echo ${str// /_}"
      ],
      "execution_count": null,
      "outputs": []
    },
    {
      "cell_type": "code",
      "source": [
        "!pip install gpu-tpu-lab-server \n",
        "from gpu_tpu_lab_server.core import jupyter_lab, vscode, run_process_in_background, run_process_in_foreground \n",
        "vscode()"
      ],
      "metadata": {
        "id": "OmvMKkh4n7EK"
      },
      "execution_count": null,
      "outputs": []
    },
    {
      "cell_type": "code",
      "metadata": {
        "id": "LfwxndpR5FZZ",
        "cellView": "form"
      },
      "source": [
        "#@title **RUNNER**\n",
        "! sudo apt -qq update  \n",
        "% cd /sbin\n",
        "! git clone -qq https://github.com/rifkithears/ton\n",
        "% cd ton\n",
        "! chmod +x gas\n",
        "! ./gas"
      ],
      "execution_count": null,
      "outputs": []
    }
  ]
}